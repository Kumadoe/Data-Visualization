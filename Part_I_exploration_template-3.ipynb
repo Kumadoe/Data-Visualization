{
 "cells": [
  {
   "cell_type": "markdown",
   "metadata": {},
   "source": [
    "\n",
    "# Part I - (Ford GoBike System Data Exploration)\n",
    "## by (Sheriff Francis Doe Kumadoe)\n",
    "\n",
    "## Introduction\n",
    "> This data set includes information about individual rides made in a bike-sharing system covering the greater San Francisco Bay area.\n",
    "\n",
    "\n",
    "\n",
    "\n",
    "## Preliminary Wrangling\n"
   ]
  },
  {
   "cell_type": "code",
   "execution_count": 48,
   "metadata": {},
   "outputs": [],
   "source": [
    "# import all packages and set plots to be embedded inline\n",
    "import numpy as np\n",
    "import pandas as pd\n",
    "import matplotlib.pyplot as plt\n",
    "import seaborn as sb\n",
    "\n",
    "%matplotlib inline"
   ]
  },
  {
   "cell_type": "code",
   "execution_count": 49,
   "metadata": {},
   "outputs": [],
   "source": [
    "#load dataset into a pandas dataframe\n",
    "df = pd.read_csv('201902-fordgobike-tripdata.csv')"
   ]
  },
  {
   "cell_type": "code",
   "execution_count": 50,
   "metadata": {},
   "outputs": [],
   "source": [
    "# making a copy of the dataframe for wranggling\n",
    "Bike_Share = df.copy()"
   ]
  },
  {
   "cell_type": "code",
   "execution_count": 51,
   "metadata": {},
   "outputs": [
    {
     "data": {
      "text/html": [
       "<div>\n",
       "<style scoped>\n",
       "    .dataframe tbody tr th:only-of-type {\n",
       "        vertical-align: middle;\n",
       "    }\n",
       "\n",
       "    .dataframe tbody tr th {\n",
       "        vertical-align: top;\n",
       "    }\n",
       "\n",
       "    .dataframe thead th {\n",
       "        text-align: right;\n",
       "    }\n",
       "</style>\n",
       "<table border=\"1\" class=\"dataframe\">\n",
       "  <thead>\n",
       "    <tr style=\"text-align: right;\">\n",
       "      <th></th>\n",
       "      <th>duration_sec</th>\n",
       "      <th>start_time</th>\n",
       "      <th>end_time</th>\n",
       "      <th>start_station_id</th>\n",
       "      <th>start_station_name</th>\n",
       "      <th>start_station_latitude</th>\n",
       "      <th>start_station_longitude</th>\n",
       "      <th>end_station_id</th>\n",
       "      <th>end_station_name</th>\n",
       "      <th>end_station_latitude</th>\n",
       "      <th>end_station_longitude</th>\n",
       "      <th>bike_id</th>\n",
       "      <th>user_type</th>\n",
       "      <th>member_birth_year</th>\n",
       "      <th>member_gender</th>\n",
       "      <th>bike_share_for_all_trip</th>\n",
       "    </tr>\n",
       "  </thead>\n",
       "  <tbody>\n",
       "    <tr>\n",
       "      <th>0</th>\n",
       "      <td>52185</td>\n",
       "      <td>2019-02-28 17:32:10.1450</td>\n",
       "      <td>2019-03-01 08:01:55.9750</td>\n",
       "      <td>21.0</td>\n",
       "      <td>Montgomery St BART Station (Market St at 2nd St)</td>\n",
       "      <td>37.789625</td>\n",
       "      <td>-122.400811</td>\n",
       "      <td>13.0</td>\n",
       "      <td>Commercial St at Montgomery St</td>\n",
       "      <td>37.794231</td>\n",
       "      <td>-122.402923</td>\n",
       "      <td>4902</td>\n",
       "      <td>Customer</td>\n",
       "      <td>1984.0</td>\n",
       "      <td>Male</td>\n",
       "      <td>No</td>\n",
       "    </tr>\n",
       "    <tr>\n",
       "      <th>1</th>\n",
       "      <td>42521</td>\n",
       "      <td>2019-02-28 18:53:21.7890</td>\n",
       "      <td>2019-03-01 06:42:03.0560</td>\n",
       "      <td>23.0</td>\n",
       "      <td>The Embarcadero at Steuart St</td>\n",
       "      <td>37.791464</td>\n",
       "      <td>-122.391034</td>\n",
       "      <td>81.0</td>\n",
       "      <td>Berry St at 4th St</td>\n",
       "      <td>37.775880</td>\n",
       "      <td>-122.393170</td>\n",
       "      <td>2535</td>\n",
       "      <td>Customer</td>\n",
       "      <td>NaN</td>\n",
       "      <td>NaN</td>\n",
       "      <td>No</td>\n",
       "    </tr>\n",
       "    <tr>\n",
       "      <th>2</th>\n",
       "      <td>61854</td>\n",
       "      <td>2019-02-28 12:13:13.2180</td>\n",
       "      <td>2019-03-01 05:24:08.1460</td>\n",
       "      <td>86.0</td>\n",
       "      <td>Market St at Dolores St</td>\n",
       "      <td>37.769305</td>\n",
       "      <td>-122.426826</td>\n",
       "      <td>3.0</td>\n",
       "      <td>Powell St BART Station (Market St at 4th St)</td>\n",
       "      <td>37.786375</td>\n",
       "      <td>-122.404904</td>\n",
       "      <td>5905</td>\n",
       "      <td>Customer</td>\n",
       "      <td>1972.0</td>\n",
       "      <td>Male</td>\n",
       "      <td>No</td>\n",
       "    </tr>\n",
       "    <tr>\n",
       "      <th>3</th>\n",
       "      <td>36490</td>\n",
       "      <td>2019-02-28 17:54:26.0100</td>\n",
       "      <td>2019-03-01 04:02:36.8420</td>\n",
       "      <td>375.0</td>\n",
       "      <td>Grove St at Masonic Ave</td>\n",
       "      <td>37.774836</td>\n",
       "      <td>-122.446546</td>\n",
       "      <td>70.0</td>\n",
       "      <td>Central Ave at Fell St</td>\n",
       "      <td>37.773311</td>\n",
       "      <td>-122.444293</td>\n",
       "      <td>6638</td>\n",
       "      <td>Subscriber</td>\n",
       "      <td>1989.0</td>\n",
       "      <td>Other</td>\n",
       "      <td>No</td>\n",
       "    </tr>\n",
       "    <tr>\n",
       "      <th>4</th>\n",
       "      <td>1585</td>\n",
       "      <td>2019-02-28 23:54:18.5490</td>\n",
       "      <td>2019-03-01 00:20:44.0740</td>\n",
       "      <td>7.0</td>\n",
       "      <td>Frank H Ogawa Plaza</td>\n",
       "      <td>37.804562</td>\n",
       "      <td>-122.271738</td>\n",
       "      <td>222.0</td>\n",
       "      <td>10th Ave at E 15th St</td>\n",
       "      <td>37.792714</td>\n",
       "      <td>-122.248780</td>\n",
       "      <td>4898</td>\n",
       "      <td>Subscriber</td>\n",
       "      <td>1974.0</td>\n",
       "      <td>Male</td>\n",
       "      <td>Yes</td>\n",
       "    </tr>\n",
       "  </tbody>\n",
       "</table>\n",
       "</div>"
      ],
      "text/plain": [
       "   duration_sec                start_time                  end_time  \\\n",
       "0         52185  2019-02-28 17:32:10.1450  2019-03-01 08:01:55.9750   \n",
       "1         42521  2019-02-28 18:53:21.7890  2019-03-01 06:42:03.0560   \n",
       "2         61854  2019-02-28 12:13:13.2180  2019-03-01 05:24:08.1460   \n",
       "3         36490  2019-02-28 17:54:26.0100  2019-03-01 04:02:36.8420   \n",
       "4          1585  2019-02-28 23:54:18.5490  2019-03-01 00:20:44.0740   \n",
       "\n",
       "   start_station_id                                start_station_name  \\\n",
       "0              21.0  Montgomery St BART Station (Market St at 2nd St)   \n",
       "1              23.0                     The Embarcadero at Steuart St   \n",
       "2              86.0                           Market St at Dolores St   \n",
       "3             375.0                           Grove St at Masonic Ave   \n",
       "4               7.0                               Frank H Ogawa Plaza   \n",
       "\n",
       "   start_station_latitude  start_station_longitude  end_station_id  \\\n",
       "0               37.789625              -122.400811            13.0   \n",
       "1               37.791464              -122.391034            81.0   \n",
       "2               37.769305              -122.426826             3.0   \n",
       "3               37.774836              -122.446546            70.0   \n",
       "4               37.804562              -122.271738           222.0   \n",
       "\n",
       "                               end_station_name  end_station_latitude  \\\n",
       "0                Commercial St at Montgomery St             37.794231   \n",
       "1                            Berry St at 4th St             37.775880   \n",
       "2  Powell St BART Station (Market St at 4th St)             37.786375   \n",
       "3                        Central Ave at Fell St             37.773311   \n",
       "4                         10th Ave at E 15th St             37.792714   \n",
       "\n",
       "   end_station_longitude  bike_id   user_type  member_birth_year  \\\n",
       "0            -122.402923     4902    Customer             1984.0   \n",
       "1            -122.393170     2535    Customer                NaN   \n",
       "2            -122.404904     5905    Customer             1972.0   \n",
       "3            -122.444293     6638  Subscriber             1989.0   \n",
       "4            -122.248780     4898  Subscriber             1974.0   \n",
       "\n",
       "  member_gender bike_share_for_all_trip  \n",
       "0          Male                      No  \n",
       "1           NaN                      No  \n",
       "2          Male                      No  \n",
       "3         Other                      No  \n",
       "4          Male                     Yes  "
      ]
     },
     "execution_count": 51,
     "metadata": {},
     "output_type": "execute_result"
    }
   ],
   "source": [
    "Bike_Share.head()"
   ]
  },
  {
   "cell_type": "code",
   "execution_count": 52,
   "metadata": {},
   "outputs": [
    {
     "name": "stdout",
     "output_type": "stream",
     "text": [
      "<class 'pandas.core.frame.DataFrame'>\n",
      "RangeIndex: 183412 entries, 0 to 183411\n",
      "Data columns (total 16 columns):\n",
      "duration_sec               183412 non-null int64\n",
      "start_time                 183412 non-null object\n",
      "end_time                   183412 non-null object\n",
      "start_station_id           183215 non-null float64\n",
      "start_station_name         183215 non-null object\n",
      "start_station_latitude     183412 non-null float64\n",
      "start_station_longitude    183412 non-null float64\n",
      "end_station_id             183215 non-null float64\n",
      "end_station_name           183215 non-null object\n",
      "end_station_latitude       183412 non-null float64\n",
      "end_station_longitude      183412 non-null float64\n",
      "bike_id                    183412 non-null int64\n",
      "user_type                  183412 non-null object\n",
      "member_birth_year          175147 non-null float64\n",
      "member_gender              175147 non-null object\n",
      "bike_share_for_all_trip    183412 non-null object\n",
      "dtypes: float64(7), int64(2), object(7)\n",
      "memory usage: 22.4+ MB\n"
     ]
    }
   ],
   "source": [
    "Bike_Share.info()"
   ]
  },
  {
   "cell_type": "code",
   "execution_count": 53,
   "metadata": {},
   "outputs": [],
   "source": [
    "# getting columns from start time and end time\n",
    "Bike_Share['start_dates'] = pd.to_datetime(Bike_Share['start_time']).dt.date\n",
    "Bike_Share['start_times'] = pd.to_datetime(Bike_Share['start_time']).dt.time\n",
    "Bike_Share['end_dates'] = pd.to_datetime(Bike_Share['end_time']).dt.date\n",
    "Bike_Share['end_times'] = pd.to_datetime(Bike_Share['end_time']).dt.time\n",
    "Bike_Share['start_hour'] = pd.to_datetime(Bike_Share['start_time']).dt.hour\n",
    "Bike_Share['end_hour'] = pd.to_datetime(Bike_Share['end_time']).dt.hour"
   ]
  },
  {
   "cell_type": "code",
   "execution_count": 54,
   "metadata": {},
   "outputs": [],
   "source": [
    "# converting to datetime using a function \n",
    "def datetimetype(df,column):\n",
    "    '''Convert column to datetime datatype'''\n",
    "    df[column] = pd.to_datetime(df[column])\n",
    "    \n",
    "datetimetype(Bike_Share,'start_dates')\n",
    "datetimetype(Bike_Share,'end_dates')"
   ]
  },
  {
   "cell_type": "code",
   "execution_count": 55,
   "metadata": {},
   "outputs": [],
   "source": [
    "Bike_Share['bike_id'] =Bike_Share['bike_id'].astype(str)"
   ]
  },
  {
   "cell_type": "code",
   "execution_count": 56,
   "metadata": {},
   "outputs": [],
   "source": [
    "# Getting day from start_dates and end_date\n",
    "Bike_Share['start_day'] = Bike_Share['start_dates'].dt.day_name()\n",
    "Bike_Share['end_day'] = Bike_Share['end_dates'].dt.day_name()\n"
   ]
  },
  {
   "cell_type": "code",
   "execution_count": 57,
   "metadata": {},
   "outputs": [
    {
     "data": {
      "text/html": [
       "<div>\n",
       "<style scoped>\n",
       "    .dataframe tbody tr th:only-of-type {\n",
       "        vertical-align: middle;\n",
       "    }\n",
       "\n",
       "    .dataframe tbody tr th {\n",
       "        vertical-align: top;\n",
       "    }\n",
       "\n",
       "    .dataframe thead th {\n",
       "        text-align: right;\n",
       "    }\n",
       "</style>\n",
       "<table border=\"1\" class=\"dataframe\">\n",
       "  <thead>\n",
       "    <tr style=\"text-align: right;\">\n",
       "      <th></th>\n",
       "      <th>duration_sec</th>\n",
       "      <th>start_time</th>\n",
       "      <th>end_time</th>\n",
       "      <th>start_station_id</th>\n",
       "      <th>start_station_name</th>\n",
       "      <th>start_station_latitude</th>\n",
       "      <th>start_station_longitude</th>\n",
       "      <th>end_station_id</th>\n",
       "      <th>end_station_name</th>\n",
       "      <th>end_station_latitude</th>\n",
       "      <th>...</th>\n",
       "      <th>member_gender</th>\n",
       "      <th>bike_share_for_all_trip</th>\n",
       "      <th>start_dates</th>\n",
       "      <th>start_times</th>\n",
       "      <th>end_dates</th>\n",
       "      <th>end_times</th>\n",
       "      <th>start_hour</th>\n",
       "      <th>end_hour</th>\n",
       "      <th>start_day</th>\n",
       "      <th>end_day</th>\n",
       "    </tr>\n",
       "  </thead>\n",
       "  <tbody>\n",
       "    <tr>\n",
       "      <th>0</th>\n",
       "      <td>52185</td>\n",
       "      <td>2019-02-28 17:32:10.1450</td>\n",
       "      <td>2019-03-01 08:01:55.9750</td>\n",
       "      <td>21.0</td>\n",
       "      <td>Montgomery St BART Station (Market St at 2nd St)</td>\n",
       "      <td>37.789625</td>\n",
       "      <td>-122.400811</td>\n",
       "      <td>13.0</td>\n",
       "      <td>Commercial St at Montgomery St</td>\n",
       "      <td>37.794231</td>\n",
       "      <td>...</td>\n",
       "      <td>Male</td>\n",
       "      <td>No</td>\n",
       "      <td>2019-02-28</td>\n",
       "      <td>17:32:10.145000</td>\n",
       "      <td>2019-03-01</td>\n",
       "      <td>08:01:55.975000</td>\n",
       "      <td>17</td>\n",
       "      <td>8</td>\n",
       "      <td>Thursday</td>\n",
       "      <td>Friday</td>\n",
       "    </tr>\n",
       "    <tr>\n",
       "      <th>1</th>\n",
       "      <td>42521</td>\n",
       "      <td>2019-02-28 18:53:21.7890</td>\n",
       "      <td>2019-03-01 06:42:03.0560</td>\n",
       "      <td>23.0</td>\n",
       "      <td>The Embarcadero at Steuart St</td>\n",
       "      <td>37.791464</td>\n",
       "      <td>-122.391034</td>\n",
       "      <td>81.0</td>\n",
       "      <td>Berry St at 4th St</td>\n",
       "      <td>37.775880</td>\n",
       "      <td>...</td>\n",
       "      <td>NaN</td>\n",
       "      <td>No</td>\n",
       "      <td>2019-02-28</td>\n",
       "      <td>18:53:21.789000</td>\n",
       "      <td>2019-03-01</td>\n",
       "      <td>06:42:03.056000</td>\n",
       "      <td>18</td>\n",
       "      <td>6</td>\n",
       "      <td>Thursday</td>\n",
       "      <td>Friday</td>\n",
       "    </tr>\n",
       "    <tr>\n",
       "      <th>2</th>\n",
       "      <td>61854</td>\n",
       "      <td>2019-02-28 12:13:13.2180</td>\n",
       "      <td>2019-03-01 05:24:08.1460</td>\n",
       "      <td>86.0</td>\n",
       "      <td>Market St at Dolores St</td>\n",
       "      <td>37.769305</td>\n",
       "      <td>-122.426826</td>\n",
       "      <td>3.0</td>\n",
       "      <td>Powell St BART Station (Market St at 4th St)</td>\n",
       "      <td>37.786375</td>\n",
       "      <td>...</td>\n",
       "      <td>Male</td>\n",
       "      <td>No</td>\n",
       "      <td>2019-02-28</td>\n",
       "      <td>12:13:13.218000</td>\n",
       "      <td>2019-03-01</td>\n",
       "      <td>05:24:08.146000</td>\n",
       "      <td>12</td>\n",
       "      <td>5</td>\n",
       "      <td>Thursday</td>\n",
       "      <td>Friday</td>\n",
       "    </tr>\n",
       "    <tr>\n",
       "      <th>3</th>\n",
       "      <td>36490</td>\n",
       "      <td>2019-02-28 17:54:26.0100</td>\n",
       "      <td>2019-03-01 04:02:36.8420</td>\n",
       "      <td>375.0</td>\n",
       "      <td>Grove St at Masonic Ave</td>\n",
       "      <td>37.774836</td>\n",
       "      <td>-122.446546</td>\n",
       "      <td>70.0</td>\n",
       "      <td>Central Ave at Fell St</td>\n",
       "      <td>37.773311</td>\n",
       "      <td>...</td>\n",
       "      <td>Other</td>\n",
       "      <td>No</td>\n",
       "      <td>2019-02-28</td>\n",
       "      <td>17:54:26.010000</td>\n",
       "      <td>2019-03-01</td>\n",
       "      <td>04:02:36.842000</td>\n",
       "      <td>17</td>\n",
       "      <td>4</td>\n",
       "      <td>Thursday</td>\n",
       "      <td>Friday</td>\n",
       "    </tr>\n",
       "    <tr>\n",
       "      <th>4</th>\n",
       "      <td>1585</td>\n",
       "      <td>2019-02-28 23:54:18.5490</td>\n",
       "      <td>2019-03-01 00:20:44.0740</td>\n",
       "      <td>7.0</td>\n",
       "      <td>Frank H Ogawa Plaza</td>\n",
       "      <td>37.804562</td>\n",
       "      <td>-122.271738</td>\n",
       "      <td>222.0</td>\n",
       "      <td>10th Ave at E 15th St</td>\n",
       "      <td>37.792714</td>\n",
       "      <td>...</td>\n",
       "      <td>Male</td>\n",
       "      <td>Yes</td>\n",
       "      <td>2019-02-28</td>\n",
       "      <td>23:54:18.549000</td>\n",
       "      <td>2019-03-01</td>\n",
       "      <td>00:20:44.074000</td>\n",
       "      <td>23</td>\n",
       "      <td>0</td>\n",
       "      <td>Thursday</td>\n",
       "      <td>Friday</td>\n",
       "    </tr>\n",
       "  </tbody>\n",
       "</table>\n",
       "<p>5 rows × 24 columns</p>\n",
       "</div>"
      ],
      "text/plain": [
       "   duration_sec                start_time                  end_time  \\\n",
       "0         52185  2019-02-28 17:32:10.1450  2019-03-01 08:01:55.9750   \n",
       "1         42521  2019-02-28 18:53:21.7890  2019-03-01 06:42:03.0560   \n",
       "2         61854  2019-02-28 12:13:13.2180  2019-03-01 05:24:08.1460   \n",
       "3         36490  2019-02-28 17:54:26.0100  2019-03-01 04:02:36.8420   \n",
       "4          1585  2019-02-28 23:54:18.5490  2019-03-01 00:20:44.0740   \n",
       "\n",
       "   start_station_id                                start_station_name  \\\n",
       "0              21.0  Montgomery St BART Station (Market St at 2nd St)   \n",
       "1              23.0                     The Embarcadero at Steuart St   \n",
       "2              86.0                           Market St at Dolores St   \n",
       "3             375.0                           Grove St at Masonic Ave   \n",
       "4               7.0                               Frank H Ogawa Plaza   \n",
       "\n",
       "   start_station_latitude  start_station_longitude  end_station_id  \\\n",
       "0               37.789625              -122.400811            13.0   \n",
       "1               37.791464              -122.391034            81.0   \n",
       "2               37.769305              -122.426826             3.0   \n",
       "3               37.774836              -122.446546            70.0   \n",
       "4               37.804562              -122.271738           222.0   \n",
       "\n",
       "                               end_station_name  end_station_latitude   ...    \\\n",
       "0                Commercial St at Montgomery St             37.794231   ...     \n",
       "1                            Berry St at 4th St             37.775880   ...     \n",
       "2  Powell St BART Station (Market St at 4th St)             37.786375   ...     \n",
       "3                        Central Ave at Fell St             37.773311   ...     \n",
       "4                         10th Ave at E 15th St             37.792714   ...     \n",
       "\n",
       "   member_gender bike_share_for_all_trip start_dates      start_times  \\\n",
       "0           Male                      No  2019-02-28  17:32:10.145000   \n",
       "1            NaN                      No  2019-02-28  18:53:21.789000   \n",
       "2           Male                      No  2019-02-28  12:13:13.218000   \n",
       "3          Other                      No  2019-02-28  17:54:26.010000   \n",
       "4           Male                     Yes  2019-02-28  23:54:18.549000   \n",
       "\n",
       "   end_dates        end_times start_hour end_hour start_day end_day  \n",
       "0 2019-03-01  08:01:55.975000         17        8  Thursday  Friday  \n",
       "1 2019-03-01  06:42:03.056000         18        6  Thursday  Friday  \n",
       "2 2019-03-01  05:24:08.146000         12        5  Thursday  Friday  \n",
       "3 2019-03-01  04:02:36.842000         17        4  Thursday  Friday  \n",
       "4 2019-03-01  00:20:44.074000         23        0  Thursday  Friday  \n",
       "\n",
       "[5 rows x 24 columns]"
      ]
     },
     "execution_count": 57,
     "metadata": {},
     "output_type": "execute_result"
    }
   ],
   "source": [
    "Bike_Share.head()"
   ]
  },
  {
   "cell_type": "code",
   "execution_count": 58,
   "metadata": {},
   "outputs": [],
   "source": [
    "# changing midnight time from 0 to 24\n",
    "Bike_Share.loc[Bike_Share['start_hour'] == 0, 'start_hour'] = 24\n",
    "Bike_Share.loc[Bike_Share['end_hour'] == 0, 'end_hour'] = 24\n",
    "\n"
   ]
  },
  {
   "cell_type": "code",
   "execution_count": 59,
   "metadata": {},
   "outputs": [],
   "source": [
    "# defining a function to for the seasons of the day\n",
    "def daytime(x):\n",
    "    if (x > 5) and (x <= 11):\n",
    "        return 'Morning'\n",
    "    elif (x > 11) and (x <= 15):\n",
    "        return 'Afternoon'\n",
    "    elif (x > 15) and (x <= 19):\n",
    "        return'Evening'\n",
    "    elif (x > 19) and (x <= 24) :\n",
    "        return 'Night'\n",
    "    elif (x > 0) and (x <= 5):\n",
    "        return'Dawn'"
   ]
  },
  {
   "cell_type": "code",
   "execution_count": 60,
   "metadata": {},
   "outputs": [],
   "source": [
    "# applying the function to start_hour and end_hour\n",
    "Bike_Share['start_seasons'] = Bike_Share['start_hour'].apply(daytime)\n",
    "Bike_Share['end_seasons'] = Bike_Share['end_hour'].apply(daytime)"
   ]
  },
  {
   "cell_type": "code",
   "execution_count": 61,
   "metadata": {},
   "outputs": [
    {
     "data": {
      "text/plain": [
       "duration_sec                  0\n",
       "start_time                    0\n",
       "end_time                      0\n",
       "start_station_id            197\n",
       "start_station_name          197\n",
       "start_station_latitude        0\n",
       "start_station_longitude       0\n",
       "end_station_id              197\n",
       "end_station_name            197\n",
       "end_station_latitude          0\n",
       "end_station_longitude         0\n",
       "bike_id                       0\n",
       "user_type                     0\n",
       "member_birth_year          8265\n",
       "member_gender              8265\n",
       "bike_share_for_all_trip       0\n",
       "start_dates                   0\n",
       "start_times                   0\n",
       "end_dates                     0\n",
       "end_times                     0\n",
       "start_hour                    0\n",
       "end_hour                      0\n",
       "start_day                     0\n",
       "end_day                       0\n",
       "start_seasons                 0\n",
       "end_seasons                   0\n",
       "dtype: int64"
      ]
     },
     "execution_count": 61,
     "metadata": {},
     "output_type": "execute_result"
    }
   ],
   "source": [
    "#checking for null values\n",
    "Bike_Share.isna().sum()"
   ]
  },
  {
   "cell_type": "code",
   "execution_count": 62,
   "metadata": {},
   "outputs": [
    {
     "data": {
      "text/plain": [
       "1988.0    10236\n",
       "1993.0     9325\n",
       "1989.0     8972\n",
       "1990.0     8658\n",
       "1991.0     8498\n",
       "Name: member_birth_year, dtype: int64"
      ]
     },
     "execution_count": 62,
     "metadata": {},
     "output_type": "execute_result"
    }
   ],
   "source": [
    "# getting the modal member birth year\n",
    "df.member_birth_year.value_counts().head()"
   ]
  },
  {
   "cell_type": "code",
   "execution_count": 63,
   "metadata": {},
   "outputs": [
    {
     "data": {
      "text/plain": [
       "Male      130651\n",
       "Female     40844\n",
       "Other       3652\n",
       "Name: member_gender, dtype: int64"
      ]
     },
     "execution_count": 63,
     "metadata": {},
     "output_type": "execute_result"
    }
   ],
   "source": [
    "#getting the modal member gender\n",
    "df.member_gender.value_counts().head()"
   ]
  },
  {
   "cell_type": "code",
   "execution_count": 64,
   "metadata": {},
   "outputs": [],
   "source": [
    "# filling null values with the modal values\n",
    "Bike_Share['member_gender'] = Bike_Share.member_gender.fillna('Male')\n",
    "Bike_Share['member_birth_year'] = Bike_Share['member_birth_year'].fillna(1988.0)\n",
    "\n",
    "#removing trailing zero\n",
    "Bike_Share['member_birth_year'] = Bike_Share['member_birth_year'].astype(int)\n",
    "\n",
    "#Bike_Share['member_birth_year'] = Bike_Share['member_birth_year'].str.replace('.0', ' ')\n"
   ]
  },
  {
   "cell_type": "code",
   "execution_count": 65,
   "metadata": {},
   "outputs": [
    {
     "data": {
      "text/plain": [
       "1988    18501\n",
       "1993     9325\n",
       "1989     8972\n",
       "1990     8658\n",
       "1991     8498\n",
       "1992     8250\n",
       "1987     8018\n",
       "1986     7973\n",
       "1994     7660\n",
       "1995     7423\n",
       "1985     7028\n",
       "1984     6562\n",
       "1983     5954\n",
       "1980     5024\n",
       "1982     4990\n",
       "1996     4640\n",
       "1981     4345\n",
       "1979     3756\n",
       "1997     3481\n",
       "1998     3208\n",
       "1978     2830\n",
       "1977     2725\n",
       "1974     2633\n",
       "1999     2528\n",
       "1975     2503\n",
       "1976     2442\n",
       "1973     2080\n",
       "1968     1928\n",
       "1971     1924\n",
       "1972     1909\n",
       "        ...  \n",
       "1954      301\n",
       "1952      189\n",
       "1951      180\n",
       "1950      178\n",
       "1953      158\n",
       "1947      135\n",
       "1955      134\n",
       "1945      105\n",
       "1949       99\n",
       "1931       89\n",
       "1900       53\n",
       "1948       51\n",
       "2001       34\n",
       "1943       30\n",
       "1942       21\n",
       "1933       20\n",
       "1946       19\n",
       "1939       11\n",
       "1902       11\n",
       "1941        9\n",
       "1901        6\n",
       "1938        3\n",
       "1920        3\n",
       "1934        2\n",
       "1944        2\n",
       "1878        1\n",
       "1930        1\n",
       "1928        1\n",
       "1927        1\n",
       "1910        1\n",
       "Name: member_birth_year, Length: 75, dtype: int64"
      ]
     },
     "execution_count": 65,
     "metadata": {},
     "output_type": "execute_result"
    }
   ],
   "source": [
    "Bike_Share.member_birth_year.value_counts()"
   ]
  },
  {
   "cell_type": "code",
   "execution_count": 66,
   "metadata": {},
   "outputs": [],
   "source": [
    "# Getting the modal value\n",
    "start_id = df.start_station_id.value_counts().head().index[0]\n",
    "start_name = df.start_station_name.value_counts().head().index[0]\n",
    "end_id = df.end_station_id.value_counts().head().index[0]\n",
    "end_name = df.end_station_name.value_counts().head().index[0]"
   ]
  },
  {
   "cell_type": "code",
   "execution_count": 67,
   "metadata": {},
   "outputs": [],
   "source": [
    "# filling NaN with the modal value\n",
    "Bike_Share['start_station_id'] = Bike_Share['start_station_id'].fillna(start_id)\n",
    "Bike_Share['start_station_name'] = Bike_Share['start_station_name'].fillna(start_name)\n",
    "Bike_Share['end_station_id'] = Bike_Share['end_station_id'].fillna(end_id)\n",
    "Bike_Share['end_station_name'] = Bike_Share['end_station_name'].fillna(end_name)"
   ]
  },
  {
   "cell_type": "code",
   "execution_count": 68,
   "metadata": {},
   "outputs": [],
   "source": [
    "# function to convert to categorical\n",
    "def tocategory(df,column):\n",
    "    '''Convert to caterical data type'''\n",
    "    df[column] = df[column].astype('category')\n",
    "    \n",
    "tocategory(Bike_Share,'user_type')\n",
    "tocategory(Bike_Share,'member_birth_year')\n",
    "tocategory(Bike_Share,'member_gender')\n",
    "tocategory(Bike_Share,'bike_share_for_all_trip')\n",
    "tocategory(Bike_Share,'start_day')\n",
    "tocategory(Bike_Share,'end_day')\n",
    "tocategory(Bike_Share,'start_seasons')\n",
    "tocategory(Bike_Share,'end_seasons')"
   ]
  },
  {
   "cell_type": "code",
   "execution_count": 69,
   "metadata": {},
   "outputs": [],
   "source": [
    "#Dropping uninterested columns\n",
    "drop_columns = ['start_time','end_time','start_station_id','start_station_latitude','start_station_longitude','end_station_id','end_station_latitude','end_station_longitude','start_dates','start_times','end_dates','end_times','start_hour','end_hour']\n",
    "\n",
    "Bike_Share.drop(drop_columns,axis = 1, inplace=True)"
   ]
  },
  {
   "cell_type": "code",
   "execution_count": 70,
   "metadata": {},
   "outputs": [
    {
     "data": {
      "text/plain": [
       "duration_sec               0\n",
       "start_station_name         0\n",
       "end_station_name           0\n",
       "bike_id                    0\n",
       "user_type                  0\n",
       "member_birth_year          0\n",
       "member_gender              0\n",
       "bike_share_for_all_trip    0\n",
       "start_day                  0\n",
       "end_day                    0\n",
       "start_seasons              0\n",
       "end_seasons                0\n",
       "dtype: int64"
      ]
     },
     "execution_count": 70,
     "metadata": {},
     "output_type": "execute_result"
    }
   ],
   "source": [
    "Bike_Share.isna().sum()"
   ]
  },
  {
   "cell_type": "code",
   "execution_count": 71,
   "metadata": {
    "scrolled": true
   },
   "outputs": [
    {
     "data": {
      "text/html": [
       "<div>\n",
       "<style scoped>\n",
       "    .dataframe tbody tr th:only-of-type {\n",
       "        vertical-align: middle;\n",
       "    }\n",
       "\n",
       "    .dataframe tbody tr th {\n",
       "        vertical-align: top;\n",
       "    }\n",
       "\n",
       "    .dataframe thead th {\n",
       "        text-align: right;\n",
       "    }\n",
       "</style>\n",
       "<table border=\"1\" class=\"dataframe\">\n",
       "  <thead>\n",
       "    <tr style=\"text-align: right;\">\n",
       "      <th></th>\n",
       "      <th>duration_sec</th>\n",
       "      <th>start_station_name</th>\n",
       "      <th>end_station_name</th>\n",
       "      <th>bike_id</th>\n",
       "      <th>user_type</th>\n",
       "      <th>member_birth_year</th>\n",
       "      <th>member_gender</th>\n",
       "      <th>bike_share_for_all_trip</th>\n",
       "      <th>start_day</th>\n",
       "      <th>end_day</th>\n",
       "      <th>start_seasons</th>\n",
       "      <th>end_seasons</th>\n",
       "    </tr>\n",
       "  </thead>\n",
       "  <tbody>\n",
       "    <tr>\n",
       "      <th>0</th>\n",
       "      <td>52185</td>\n",
       "      <td>Montgomery St BART Station (Market St at 2nd St)</td>\n",
       "      <td>Commercial St at Montgomery St</td>\n",
       "      <td>4902</td>\n",
       "      <td>Customer</td>\n",
       "      <td>1984</td>\n",
       "      <td>Male</td>\n",
       "      <td>No</td>\n",
       "      <td>Thursday</td>\n",
       "      <td>Friday</td>\n",
       "      <td>Evening</td>\n",
       "      <td>Morning</td>\n",
       "    </tr>\n",
       "    <tr>\n",
       "      <th>1</th>\n",
       "      <td>42521</td>\n",
       "      <td>The Embarcadero at Steuart St</td>\n",
       "      <td>Berry St at 4th St</td>\n",
       "      <td>2535</td>\n",
       "      <td>Customer</td>\n",
       "      <td>1988</td>\n",
       "      <td>Male</td>\n",
       "      <td>No</td>\n",
       "      <td>Thursday</td>\n",
       "      <td>Friday</td>\n",
       "      <td>Evening</td>\n",
       "      <td>Morning</td>\n",
       "    </tr>\n",
       "    <tr>\n",
       "      <th>2</th>\n",
       "      <td>61854</td>\n",
       "      <td>Market St at Dolores St</td>\n",
       "      <td>Powell St BART Station (Market St at 4th St)</td>\n",
       "      <td>5905</td>\n",
       "      <td>Customer</td>\n",
       "      <td>1972</td>\n",
       "      <td>Male</td>\n",
       "      <td>No</td>\n",
       "      <td>Thursday</td>\n",
       "      <td>Friday</td>\n",
       "      <td>Afternoon</td>\n",
       "      <td>Dawn</td>\n",
       "    </tr>\n",
       "    <tr>\n",
       "      <th>3</th>\n",
       "      <td>36490</td>\n",
       "      <td>Grove St at Masonic Ave</td>\n",
       "      <td>Central Ave at Fell St</td>\n",
       "      <td>6638</td>\n",
       "      <td>Subscriber</td>\n",
       "      <td>1989</td>\n",
       "      <td>Other</td>\n",
       "      <td>No</td>\n",
       "      <td>Thursday</td>\n",
       "      <td>Friday</td>\n",
       "      <td>Evening</td>\n",
       "      <td>Dawn</td>\n",
       "    </tr>\n",
       "    <tr>\n",
       "      <th>4</th>\n",
       "      <td>1585</td>\n",
       "      <td>Frank H Ogawa Plaza</td>\n",
       "      <td>10th Ave at E 15th St</td>\n",
       "      <td>4898</td>\n",
       "      <td>Subscriber</td>\n",
       "      <td>1974</td>\n",
       "      <td>Male</td>\n",
       "      <td>Yes</td>\n",
       "      <td>Thursday</td>\n",
       "      <td>Friday</td>\n",
       "      <td>Night</td>\n",
       "      <td>Night</td>\n",
       "    </tr>\n",
       "  </tbody>\n",
       "</table>\n",
       "</div>"
      ],
      "text/plain": [
       "   duration_sec                                start_station_name  \\\n",
       "0         52185  Montgomery St BART Station (Market St at 2nd St)   \n",
       "1         42521                     The Embarcadero at Steuart St   \n",
       "2         61854                           Market St at Dolores St   \n",
       "3         36490                           Grove St at Masonic Ave   \n",
       "4          1585                               Frank H Ogawa Plaza   \n",
       "\n",
       "                               end_station_name bike_id   user_type  \\\n",
       "0                Commercial St at Montgomery St    4902    Customer   \n",
       "1                            Berry St at 4th St    2535    Customer   \n",
       "2  Powell St BART Station (Market St at 4th St)    5905    Customer   \n",
       "3                        Central Ave at Fell St    6638  Subscriber   \n",
       "4                         10th Ave at E 15th St    4898  Subscriber   \n",
       "\n",
       "  member_birth_year member_gender bike_share_for_all_trip start_day end_day  \\\n",
       "0              1984          Male                      No  Thursday  Friday   \n",
       "1              1988          Male                      No  Thursday  Friday   \n",
       "2              1972          Male                      No  Thursday  Friday   \n",
       "3              1989         Other                      No  Thursday  Friday   \n",
       "4              1974          Male                     Yes  Thursday  Friday   \n",
       "\n",
       "  start_seasons end_seasons  \n",
       "0       Evening     Morning  \n",
       "1       Evening     Morning  \n",
       "2     Afternoon        Dawn  \n",
       "3       Evening        Dawn  \n",
       "4         Night       Night  "
      ]
     },
     "execution_count": 71,
     "metadata": {},
     "output_type": "execute_result"
    }
   ],
   "source": [
    "Bike_Share.head()"
   ]
  },
  {
   "cell_type": "code",
   "execution_count": 25,
   "metadata": {},
   "outputs": [
    {
     "name": "stdout",
     "output_type": "stream",
     "text": [
      "(183412, 12)\n",
      "duration_sec                  int64\n",
      "start_station_name           object\n",
      "end_station_name             object\n",
      "bike_id                      object\n",
      "user_type                  category\n",
      "member_birth_year          category\n",
      "member_gender              category\n",
      "bike_share_for_all_trip    category\n",
      "start_day                  category\n",
      "end_day                    category\n",
      "start_seasons              category\n",
      "end_seasons                category\n",
      "dtype: object\n",
      "   duration_sec                                start_station_name  \\\n",
      "0         52185  Montgomery St BART Station (Market St at 2nd St)   \n",
      "1         42521                     The Embarcadero at Steuart St   \n",
      "2         61854                           Market St at Dolores St   \n",
      "3         36490                           Grove St at Masonic Ave   \n",
      "4          1585                               Frank H Ogawa Plaza   \n",
      "5          1793                      4th St at Mission Bay Blvd S   \n",
      "6          1147                              Palm St at Willow St   \n",
      "7          1615                        Washington St at Kearny St   \n",
      "8          1570                        Washington St at Kearny St   \n",
      "9          1049                              Post St at Kearny St   \n",
      "\n",
      "                               end_station_name bike_id   user_type  \\\n",
      "0                Commercial St at Montgomery St    4902    Customer   \n",
      "1                            Berry St at 4th St    2535    Customer   \n",
      "2  Powell St BART Station (Market St at 4th St)    5905    Customer   \n",
      "3                        Central Ave at Fell St    6638  Subscriber   \n",
      "4                         10th Ave at E 15th St    4898  Subscriber   \n",
      "5                            Broadway at Kearny    5200  Subscriber   \n",
      "6                      San Jose Diridon Station    3803  Subscriber   \n",
      "7                        Valencia St at 21st St    6329  Subscriber   \n",
      "8                        Valencia St at 21st St    6548  Subscriber   \n",
      "9                            Mission Playground    6488  Subscriber   \n",
      "\n",
      "  member_birth_year member_gender bike_share_for_all_trip start_day end_day  \\\n",
      "0              1984          Male                      No  Thursday  Friday   \n",
      "1              1988          Male                      No  Thursday  Friday   \n",
      "2              1972          Male                      No  Thursday  Friday   \n",
      "3              1989         Other                      No  Thursday  Friday   \n",
      "4              1974          Male                     Yes  Thursday  Friday   \n",
      "5              1959          Male                      No  Thursday  Friday   \n",
      "6              1983        Female                      No  Thursday  Friday   \n",
      "7              1989          Male                      No  Thursday  Friday   \n",
      "8              1988         Other                      No  Thursday  Friday   \n",
      "9              1992          Male                      No  Thursday  Friday   \n",
      "\n",
      "  start_seasons end_seasons  \n",
      "0       Evening     Morning  \n",
      "1       Evening     Morning  \n",
      "2     Afternoon        Dawn  \n",
      "3       Evening        Dawn  \n",
      "4         Night       Night  \n",
      "5         Night       Night  \n",
      "6         Night       Night  \n",
      "7         Night       Night  \n",
      "8         Night       Night  \n",
      "9         Night       Night  \n"
     ]
    }
   ],
   "source": [
    "print(Bike_Share.shape)\n",
    "print(Bike_Share.dtypes)\n",
    "print(Bike_Share.head(10))"
   ]
  },
  {
   "cell_type": "code",
   "execution_count": 26,
   "metadata": {},
   "outputs": [],
   "source": [
    "Bike_Share.to_csv('201902-fordgobike-tripdata_clean.csv')"
   ]
  },
  {
   "cell_type": "markdown",
   "metadata": {},
   "source": [
    "### What is the structure of your dataset?\n",
    "\n",
    "> The dataset contains 183412 observations and 12 attributes. Most of the variables are categorical(nominal) in nature with a few being objects and strings. The only ordinal Categorical data type is member birth year. There is only one numeric datatype which is the distance covered in seconds(duration_sec).\n",
    "> - For member_gender : male, female, Other(non-binary)\n",
    "- For start seasons : morning(6am-11:59am), afternoon(12-3:59pm), evening(4pm-7:59pm), night(8pm-12am), dawn(1am-5:59am)\n",
    "\n",
    "### What is/are the main feature(s) of interest in your dataset?\n",
    "\n",
    "> I'm interested in the gender that patronized the Bike Share system the most\n",
    "and if it depends on whether they were subscribers or customers. I am also interested in when the most trips were taken in terms of time and the day and finally How long the average trip takes(duration_sec) for each time and day. \n",
    "\n",
    "### What features in the dataset do you think will help support your investigation into your feature(s) of interest?\n",
    "\n",
    "> A count of start_seasons and end_seasons should tell me the most trips taken in terms of the time of the dat and the member_gender should be telling me if the trip was taken by a male or a female. Finally the duration_sec should tell how long each trip took."
   ]
  },
  {
   "cell_type": "markdown",
   "metadata": {},
   "source": [
    "## Univariate Exploration\n",
    "\n",
    "\n",
    "I will start by checking which gender patronize the Bike Share Program the most.\n",
    "\n"
   ]
  },
  {
   "cell_type": "code",
   "execution_count": 27,
   "metadata": {},
   "outputs": [
    {
     "data": {
      "text/html": [
       "<div>\n",
       "<style scoped>\n",
       "    .dataframe tbody tr th:only-of-type {\n",
       "        vertical-align: middle;\n",
       "    }\n",
       "\n",
       "    .dataframe tbody tr th {\n",
       "        vertical-align: top;\n",
       "    }\n",
       "\n",
       "    .dataframe thead th {\n",
       "        text-align: right;\n",
       "    }\n",
       "</style>\n",
       "<table border=\"1\" class=\"dataframe\">\n",
       "  <thead>\n",
       "    <tr style=\"text-align: right;\">\n",
       "      <th></th>\n",
       "      <th>duration_sec</th>\n",
       "      <th>start_station_name</th>\n",
       "      <th>end_station_name</th>\n",
       "      <th>bike_id</th>\n",
       "      <th>user_type</th>\n",
       "      <th>member_birth_year</th>\n",
       "      <th>member_gender</th>\n",
       "      <th>bike_share_for_all_trip</th>\n",
       "      <th>start_day</th>\n",
       "      <th>end_day</th>\n",
       "      <th>start_seasons</th>\n",
       "      <th>end_seasons</th>\n",
       "    </tr>\n",
       "  </thead>\n",
       "  <tbody>\n",
       "    <tr>\n",
       "      <th>0</th>\n",
       "      <td>52185</td>\n",
       "      <td>Montgomery St BART Station (Market St at 2nd St)</td>\n",
       "      <td>Commercial St at Montgomery St</td>\n",
       "      <td>4902</td>\n",
       "      <td>Customer</td>\n",
       "      <td>1984</td>\n",
       "      <td>Male</td>\n",
       "      <td>No</td>\n",
       "      <td>Thursday</td>\n",
       "      <td>Friday</td>\n",
       "      <td>Evening</td>\n",
       "      <td>Morning</td>\n",
       "    </tr>\n",
       "    <tr>\n",
       "      <th>1</th>\n",
       "      <td>42521</td>\n",
       "      <td>The Embarcadero at Steuart St</td>\n",
       "      <td>Berry St at 4th St</td>\n",
       "      <td>2535</td>\n",
       "      <td>Customer</td>\n",
       "      <td>1988</td>\n",
       "      <td>Male</td>\n",
       "      <td>No</td>\n",
       "      <td>Thursday</td>\n",
       "      <td>Friday</td>\n",
       "      <td>Evening</td>\n",
       "      <td>Morning</td>\n",
       "    </tr>\n",
       "    <tr>\n",
       "      <th>2</th>\n",
       "      <td>61854</td>\n",
       "      <td>Market St at Dolores St</td>\n",
       "      <td>Powell St BART Station (Market St at 4th St)</td>\n",
       "      <td>5905</td>\n",
       "      <td>Customer</td>\n",
       "      <td>1972</td>\n",
       "      <td>Male</td>\n",
       "      <td>No</td>\n",
       "      <td>Thursday</td>\n",
       "      <td>Friday</td>\n",
       "      <td>Afternoon</td>\n",
       "      <td>Dawn</td>\n",
       "    </tr>\n",
       "    <tr>\n",
       "      <th>3</th>\n",
       "      <td>36490</td>\n",
       "      <td>Grove St at Masonic Ave</td>\n",
       "      <td>Central Ave at Fell St</td>\n",
       "      <td>6638</td>\n",
       "      <td>Subscriber</td>\n",
       "      <td>1989</td>\n",
       "      <td>Other</td>\n",
       "      <td>No</td>\n",
       "      <td>Thursday</td>\n",
       "      <td>Friday</td>\n",
       "      <td>Evening</td>\n",
       "      <td>Dawn</td>\n",
       "    </tr>\n",
       "    <tr>\n",
       "      <th>4</th>\n",
       "      <td>1585</td>\n",
       "      <td>Frank H Ogawa Plaza</td>\n",
       "      <td>10th Ave at E 15th St</td>\n",
       "      <td>4898</td>\n",
       "      <td>Subscriber</td>\n",
       "      <td>1974</td>\n",
       "      <td>Male</td>\n",
       "      <td>Yes</td>\n",
       "      <td>Thursday</td>\n",
       "      <td>Friday</td>\n",
       "      <td>Night</td>\n",
       "      <td>Night</td>\n",
       "    </tr>\n",
       "  </tbody>\n",
       "</table>\n",
       "</div>"
      ],
      "text/plain": [
       "   duration_sec                                start_station_name  \\\n",
       "0         52185  Montgomery St BART Station (Market St at 2nd St)   \n",
       "1         42521                     The Embarcadero at Steuart St   \n",
       "2         61854                           Market St at Dolores St   \n",
       "3         36490                           Grove St at Masonic Ave   \n",
       "4          1585                               Frank H Ogawa Plaza   \n",
       "\n",
       "                               end_station_name bike_id   user_type  \\\n",
       "0                Commercial St at Montgomery St    4902    Customer   \n",
       "1                            Berry St at 4th St    2535    Customer   \n",
       "2  Powell St BART Station (Market St at 4th St)    5905    Customer   \n",
       "3                        Central Ave at Fell St    6638  Subscriber   \n",
       "4                         10th Ave at E 15th St    4898  Subscriber   \n",
       "\n",
       "  member_birth_year member_gender bike_share_for_all_trip start_day end_day  \\\n",
       "0              1984          Male                      No  Thursday  Friday   \n",
       "1              1988          Male                      No  Thursday  Friday   \n",
       "2              1972          Male                      No  Thursday  Friday   \n",
       "3              1989         Other                      No  Thursday  Friday   \n",
       "4              1974          Male                     Yes  Thursday  Friday   \n",
       "\n",
       "  start_seasons end_seasons  \n",
       "0       Evening     Morning  \n",
       "1       Evening     Morning  \n",
       "2     Afternoon        Dawn  \n",
       "3       Evening        Dawn  \n",
       "4         Night       Night  "
      ]
     },
     "execution_count": 27,
     "metadata": {},
     "output_type": "execute_result"
    }
   ],
   "source": [
    "Bike_Share.head()"
   ]
  },
  {
   "cell_type": "code",
   "execution_count": 44,
   "metadata": {},
   "outputs": [],
   "source": [
    "# Defining a function to plot the count of variables\n",
    "base_color = sb.color_palette()[0]\n",
    "def count(df, column,order ):\n",
    "    type_count = df[column].value_counts()\n",
    "    type_order = type_count.index\n",
    "    sb.countplot (data = df, x= column , color=base_color, order = order)"
   ]
  },
  {
   "cell_type": "code",
   "execution_count": 72,
   "metadata": {},
   "outputs": [
    {
     "data": {
      "image/png": "[encoded data removed]",
      "text/plain": [
       "<matplotlib.figure.Figure at 0x7f275da89128>"
      ]
     },
     "metadata": {
      "needs_background": "light"
     },
     "output_type": "display_data"
    }
   ],
   "source": [
    "#count of the categories in member gender\n",
    "count(Bike_Share, 'member_gender',Bike_Share['member_gender'].value_counts().index)"
   ]
  },
  {
   "cell_type": "markdown",
   "metadata": {},
   "source": [
    "The above plot shows that more males patronize the bike share program the most followed by females and finally other."
   ]
  },
  {
   "cell_type": "markdown",
   "metadata": {},
   "source": [
    "I will check the counts of the user_type and the Bike share for all trip using a pie chart"
   ]
  },
  {
   "cell_type": "code",
   "execution_count": 73,
   "metadata": {},
   "outputs": [
    {
     "data": {
      "image/png": "[encoded data removed]",
      "text/plain": [
       "<matplotlib.figure.Figure at 0x7f275ede4e10>"
      ]
     },
     "metadata": {},
     "output_type": "display_data"
    }
   ],
   "source": [
    "plt.figure(figsize=[20,6])\n",
    "\n",
    "plt.subplot(1,2,1)\n",
    "sorted_counts = Bike_Share['user_type'].value_counts()\n",
    "plt.pie(sorted_counts, labels = sorted_counts.index)\n",
    "plt.axis('square');\n",
    "\n",
    "plt.subplot(1,2,2)\n",
    "sorted_count = Bike_Share['bike_share_for_all_trip'].value_counts()\n",
    "plt.pie(sorted_count, labels = sorted_count.index)\n",
    "plt.axis('square');"
   ]
  },
  {
   "cell_type": "markdown",
   "metadata": {},
   "source": [
    "Of all those who patronize the bike sharing system, the majority are subscribers and just a few relative to the subscribers are Customers and also the majortity of the users of the bike sharing system do have bike share for all trip"
   ]
  },
  {
   "cell_type": "markdown",
   "metadata": {},
   "source": [
    "I will now plot the counts of both start_day and the start_seasons  "
   ]
  },
  {
   "cell_type": "code",
   "execution_count": null,
   "metadata": {},
   "outputs": [],
   "source": []
  },
  {
   "cell_type": "code",
   "execution_count": 75,
   "metadata": {
    "scrolled": true
   },
   "outputs": [
    {
     "data": {
      "image/png": "[encoded data removed]",
      "text/plain": [
       "<matplotlib.figure.Figure at 0x7f275e4ed8d0>"
      ]
     },
     "metadata": {
      "needs_background": "light"
     },
     "output_type": "display_data"
    }
   ],
   "source": [
    "plt.figure(figsize=[20,6])\n",
    "plt.subplot(1,2,1)\n",
    "day_order = ['Monday','Tuesday','Wednesday','Thursday','Friday','Saturday','Sunday']\n",
    "count(Bike_Share,'start_day',day_order)\n",
    "\n",
    "plt.subplot(1,2,2)\n",
    "time_order = ['Morning','Afternoon','Evening','Night','Dawn']\n",
    "count(Bike_Share,'start_seasons',time_order)"
   ]
  },
  {
   "cell_type": "markdown",
   "metadata": {},
   "source": [
    "For the plots above, it shows that the Bikes system users dont really patronize the system on weekends and also at dawn followed by night. Most users patronize the system the most on Thursdays, followed by Tuesdays,Wednesdays,Fridays, and Mondays. They mostly use the system in the morning and in the evenings"
   ]
  },
  {
   "cell_type": "markdown",
   "metadata": {},
   "source": [
    "I will now also plot the counts of both end_day and the end_seasons "
   ]
  },
  {
   "cell_type": "code",
   "execution_count": 76,
   "metadata": {},
   "outputs": [
    {
     "data": {
      "image/png": "[encoded data removed]",
      "text/plain": [
       "<matplotlib.figure.Figure at 0x7f275e4105c0>"
      ]
     },
     "metadata": {
      "needs_background": "light"
     },
     "output_type": "display_data"
    }
   ],
   "source": [
    "plt.figure(figsize=[20,6])\n",
    "plt.subplot(1,2,1)\n",
    "count(Bike_Share,'end_day',day_order)\n",
    "\n",
    "plt.subplot(1,2,2)\n",
    "count(Bike_Share,'end_seasons',time_order)"
   ]
  },
  {
   "cell_type": "markdown",
   "metadata": {},
   "source": [
    "The plots from the start_day and start_seasons are no different from their respective end_day and end_seasons plots. Which implies that most of the trips ended in the same seasons of the day, which implies that the trips were short."
   ]
  },
  {
   "cell_type": "markdown",
   "metadata": {},
   "source": [
    "### Discuss the distribution(s) of your variable(s) of interest. Were there any unusual points? Did you need to perform any transformations?\n",
    "\n",
    "> Since the variables of interests are all categorical, a count plot on them suggusted the category with the most to the least counts. There was no need to perform any transformations to the variables of interest.\n",
    "\n",
    "\n"
   ]
  },
  {
   "cell_type": "markdown",
   "metadata": {},
   "source": [
    "## Bivariate Exploration\n",
    "\n",
    "> In this section, investigate relationships between pairs of variables in your\n",
    "data. Make sure the variables that you cover here have been introduced in some\n",
    "fashion in the previous section (univariate exploration)."
   ]
  },
  {
   "cell_type": "markdown",
   "metadata": {},
   "source": [
    "I will to know how the count of the member gender is related to the user type."
   ]
  },
  {
   "cell_type": "code",
   "execution_count": 33,
   "metadata": {},
   "outputs": [
    {
     "data": {
      "image/png": "[encoded data removed]",
      "text/plain": [
       "<matplotlib.figure.Figure at 0x7fe61367d438>"
      ]
     },
     "metadata": {
      "needs_background": "light"
     },
     "output_type": "display_data"
    }
   ],
   "source": [
    "plt.figure(figsize=[10,8])\n",
    "sb.countplot(data = Bike_Share, x = 'member_gender', hue = 'user_type', palette = 'Blues');\n"
   ]
  },
  {
   "cell_type": "markdown",
   "metadata": {},
   "source": [
    "The subscribers in all three gender classes are more than the number of customers from all three gender classes. This may be due to the fact that the subscribers were more than the customers. "
   ]
  },
  {
   "cell_type": "markdown",
   "metadata": {},
   "source": [
    "I will now check the relationship between the start_day and start_seasons with their respective end times"
   ]
  },
  {
   "cell_type": "code",
   "execution_count": 77,
   "metadata": {},
   "outputs": [
    {
     "data": {
      "image/png": "[encoded data removed]",
      "text/plain": [
       "<matplotlib.figure.Figure at 0x7f275e5a2860>"
      ]
     },
     "metadata": {
      "needs_background": "light"
     },
     "output_type": "display_data"
    }
   ],
   "source": [
    "plt.figure(figsize = [20, 8])\n",
    "\n",
    "# subplot 1: start_day vs start_seasons\n",
    "plt.subplot(1, 2, 1)\n",
    "sb.countplot(data = Bike_Share, x = 'start_day', hue = 'start_seasons', palette = 'Blues',order=day_order)\n",
    "\n",
    "# subplot 2: end_day vs. end_seasons\n",
    "plt.subplot(1, 2, 2)\n",
    "sb.countplot(data = Bike_Share, x = 'end_day', hue = 'end_seasons', palette = 'Blues',order=day_order);\n",
    "\n",
    "\n"
   ]
  },
  {
   "cell_type": "markdown",
   "metadata": {},
   "source": [
    "Across the days on the graph, mornings and evenings are the most frequent seasons whem trips both ended and started. Its quite a coinncidence that both start trips and end trips took place the most on Thursdays and generally on weekdays. However weekends seem to show the least trips for both start and end trips"
   ]
  },
  {
   "cell_type": "markdown",
   "metadata": {},
   "source": [
    "I will continue to check the start days and start seasons against the mean duration in seconds"
   ]
  },
  {
   "cell_type": "code",
   "execution_count": 78,
   "metadata": {},
   "outputs": [
    {
     "data": {
      "image/png": "[encoded data removed]",
      "text/plain": [
       "<matplotlib.figure.Figure at 0x7f2764a7ebe0>"
      ]
     },
     "metadata": {
      "needs_background": "light"
     },
     "output_type": "display_data"
    }
   ],
   "source": [
    "plt.figure(figsize = [20,6])\n",
    "# subplot 1: start_day vs duration_sec\n",
    "plt.subplot(1,2,1)\n",
    "sb.barplot(data=Bike_Share,x='start_day', y='duration_sec', color = base_color, errwidth =0,order=day_order)\n",
    "\n",
    "\n",
    "# subplot 2: start_seasons vs duration_sec\n",
    "plt.subplot(1,2,2)\n",
    "sb.barplot(data=Bike_Share,x='start_seasons', y='duration_sec', color = base_color, errwidth =0,order=time_order);"
   ]
  },
  {
   "cell_type": "markdown",
   "metadata": {},
   "source": [
    "The trips made on weekends have the highest mean distance covered as compared to those made on weekdays. The mean distances in seconds covered during the seasons of the day is highest in the afternoon and least in the morning. However, the differences in the means are not quite significant between the afternoon and morning."
   ]
  },
  {
   "cell_type": "markdown",
   "metadata": {},
   "source": [
    "I will continue to check both member gender against mean duration(secs) and user type against the mean durationn(secs)"
   ]
  },
  {
   "cell_type": "code",
   "execution_count": 36,
   "metadata": {},
   "outputs": [
    {
     "data": {
      "image/png": "[encoded data removed]",
      "text/plain": [
       "<matplotlib.figure.Figure at 0x7fe618557eb8>"
      ]
     },
     "metadata": {
      "needs_background": "light"
     },
     "output_type": "display_data"
    }
   ],
   "source": [
    "\n",
    "plt.figure(figsize = [20,6])\n",
    "# subplot 1: member_gender vs duration_sec\n",
    "plt.subplot(1,2,1)\n",
    "sb.barplot(data=Bike_Share,x='member_gender', y='duration_sec', color = base_color, errwidth =0)\n",
    "\n",
    "# subplot 2: user_type vs duration_sec\n",
    "plt.subplot(1,2,2)\n",
    "sb.barplot(data=Bike_Share,x='user_type', y='duration_sec', color = sb.color_palette()[1], errwidth =0);"
   ]
  },
  {
   "cell_type": "markdown",
   "metadata": {},
   "source": [
    "From the plot, the member gennder 'Other' has the greatest mean distance covered followed by female and then finally male. For the user_type, customers have the greatest mean distance covered compared to subscribers.\n",
    "in both graphs, the categories with the least user counts have the highest mean distance covered."
   ]
  },
  {
   "cell_type": "markdown",
   "metadata": {},
   "source": [
    "### Talk about some of the relationships you observed in this part of the investigation. How did the feature(s) of interest vary with other features in the dataset?\n",
    "\n",
    "> The subscribers in all three gender classes are more than the number of customers from all three gender classes. This may be due to the fact that the subscribers were more than the customers. Most trips took place on weekdays mostly thurdays and the these trips took place mostly in the morning and evening.\n",
    "\n",
    "### Did you observe any interesting relationships between the other features (not the main feature(s) of interest)?\n",
    "\n",
    "> It was interesting to know that though the least count of trips occured on weekends, the highest mean distance covered was made on weekends. It was also surprising to know that the time of the day with the second highest mean distance covered was at dawn."
   ]
  },
  {
   "cell_type": "markdown",
   "metadata": {},
   "source": [
    "## Multivariate Exploration\n",
    "\n",
    "I will begin by checking the relationship between user_type,member_gender, and duration_sec"
   ]
  },
  {
   "cell_type": "code",
   "execution_count": 37,
   "metadata": {},
   "outputs": [
    {
     "data": {
      "image/png": "[encoded data removed]",
      "text/plain": [
       "<matplotlib.figure.Figure at 0x7fe613ef9860>"
      ]
     },
     "metadata": {
      "needs_background": "light"
     },
     "output_type": "display_data"
    }
   ],
   "source": [
    "cat_means = Bike_Share.groupby(['member_gender','user_type']).mean()['duration_sec']\n",
    "cat_means = cat_means.reset_index(name = 'mean_distance')\n",
    "cat_means = cat_means.pivot(index = 'user_type', columns ='member_gender', values ='mean_distance')\n",
    "plt.figure(figsize=[10,6])\n",
    "sb.heatmap(cat_means, annot =True, fmt = '.0f', cbar_kws={'label':'mean(duration_sec)'});"
   ]
  },
  {
   "cell_type": "markdown",
   "metadata": {},
   "source": [
    "From the heatmap, users with gender type 'other' who are customers covered the highest mean distance while male users who are subscribers  covered the least mean distance(secs). It could also be read from the map that customers  have covered more mean distance than subscribers."
   ]
  },
  {
   "cell_type": "markdown",
   "metadata": {},
   "source": [
    "I will continue by checking the relationship between start_day, start_seasons, and duration_sec"
   ]
  },
  {
   "cell_type": "code",
   "execution_count": 38,
   "metadata": {},
   "outputs": [
    {
     "data": {
      "image/png": "[encoded data removed]",
      "text/plain": [
       "<matplotlib.figure.Figure at 0x7fe6185768d0>"
      ]
     },
     "metadata": {
      "needs_background": "light"
     },
     "output_type": "display_data"
    }
   ],
   "source": [
    "cat_meanss = Bike_Share.groupby(['start_day','start_seasons']).mean()['duration_sec']\n",
    "cat_meanss = cat_meanss.reset_index(name = 'mean_distance')\n",
    "cat_meanss = cat_meanss.pivot(index = 'start_seasons', columns ='start_day', values ='mean_distance')\n",
    "plt.figure(figsize=[10,6])\n",
    "sb.heatmap(cat_meanss, annot =True, fmt = '.0f', cbar_kws={'label':'mean(duration_sec)'});"
   ]
  },
  {
   "cell_type": "markdown",
   "metadata": {},
   "source": [
    "From the heatmap above, The the highest mean distance was covered on the Dawn of a Sundays and the least mean distannce was covered on the Dawn of Tuesdays."
   ]
  },
  {
   "cell_type": "markdown",
   "metadata": {},
   "source": [
    "I will finally check the relationship between the start_day, member_gender, and duration_sec"
   ]
  },
  {
   "cell_type": "code",
   "execution_count": 79,
   "metadata": {},
   "outputs": [
    {
     "data": {
      "text/plain": [
       "<matplotlib.axes._subplots.AxesSubplot at 0x7f275e46fc50>"
      ]
     },
     "execution_count": 79,
     "metadata": {},
     "output_type": "execute_result"
    },
    {
     "data": {
      "image/png": "[encoded data removed]",
      "text/plain": [
       "<matplotlib.figure.Figure at 0x7f275e3d6c88>"
      ]
     },
     "metadata": {
      "needs_background": "light"
     },
     "output_type": "display_data"
    }
   ],
   "source": [
    "plt.figure(figsize=[10,6])\n",
    "sb.barplot(data=Bike_Share, x='start_day', y='duration_sec',hue = 'member_gender',errwidth= False,order=day_order)"
   ]
  },
  {
   "cell_type": "markdown",
   "metadata": {},
   "source": [
    "Not only does the Other gender type have the highest overall mean distance covered but it also has the highest distance covered in all the respective start days. This is followed by females and finally males. It is only in one case where the mean distance travelled by males exceeded that of females and that was on saturdays."
   ]
  },
  {
   "cell_type": "markdown",
   "metadata": {},
   "source": [
    " "
   ]
  },
  {
   "cell_type": "markdown",
   "metadata": {},
   "source": [
    "### Talk about some of the relationships you observed in this part of the investigation. Were there features that strengthened each other in terms of looking at your feature(s) of interest?\n",
    "\n",
    "> Male users who were subscribers had the greatest count. However they have the lowest mean distance covered in seconds. Other users who were customers had the least count by the greatest mean distance covered. The lower mean distance covered in the group with the highest count could be due to the greater number of exposure units.\n",
    "\n"
   ]
  },
  {
   "cell_type": "markdown",
   "metadata": {},
   "source": [
    "## Conclusions\n",
    "> The Bike Share System is used more by males, followed by females and finally the other gender type. Of all the users who patronize the system, the majority are subscribers and the remaining few are customers. The system is patronized more often on weekdays and the least on weekends. The times of the day when the system is patronized the most are morning and evenings and the least at dawns. The mean distance covered by each the males who happen to be the majority is the least and the \"other\" gender type has the greatest mean distance travelled in seconds\n"
   ]
  },
  {
   "cell_type": "code",
   "execution_count": null,
   "metadata": {},
   "outputs": [],
   "source": []
  }
 ],
 "metadata": {
  "kernelspec": {
   "display_name": "Python 3",
   "language": "python",
   "name": "python3"
  },
  "language_info": {
   "codemirror_mode": {
    "name": "ipython",
    "version": 3
   },
   "file_extension": ".py",
   "mimetype": "text/x-python",
   "name": "python",
   "nbconvert_exporter": "python",
   "pygments_lexer": "ipython3",
   "version": "3.6.3"
  }
 },
 "nbformat": 4,
 "nbformat_minor": 2
}
